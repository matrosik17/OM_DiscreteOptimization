{
 "cells": [
  {
   "cell_type": "code",
   "execution_count": 1,
   "metadata": {},
   "outputs": [],
   "source": [
    "import pathlib"
   ]
  },
  {
   "cell_type": "code",
   "execution_count": 2,
   "metadata": {},
   "outputs": [],
   "source": [
    "data_path = pathlib.Path('./data/')"
   ]
  },
  {
   "cell_type": "code",
   "execution_count": 3,
   "metadata": {},
   "outputs": [
    {
     "data": {
      "text/plain": [
       "PosixPath('data')"
      ]
     },
     "execution_count": 3,
     "metadata": {},
     "output_type": "execute_result"
    }
   ],
   "source": [
    "data_path"
   ]
  },
  {
   "cell_type": "code",
   "execution_count": 35,
   "metadata": {},
   "outputs": [],
   "source": [
    "class Parser:    \n",
    "    def __init__(self):\n",
    "        self.state = 'IDLE'\n",
    "        self.section_horizon = None\n",
    "        self.section_shifts = {}\n",
    "        self.staff = {}\n",
    "    \n",
    "    def parse_file(self, file):\n",
    "        while True:\n",
    "            line = file.readline()\n",
    "            if not line:\n",
    "                break\n",
    "            self.parse(line)\n",
    "                \n",
    "    def parse(self, line):\n",
    "        if line[0] == '#':\n",
    "            return\n",
    "        if line[0] == '\\n':\n",
    "            return\n",
    "        \n",
    "        if line == 'SECTION_HORIZON\\n':\n",
    "            self.state = 'SECTION_HORIZON'\n",
    "            return\n",
    "        elif line == 'SECTION_SHIFTS\\n':\n",
    "            self.state = 'SECTION_SHIFTS'\n",
    "            return\n",
    "        elif line == 'SECTION_STAFF\\n':\n",
    "            self.state = 'SECTION_STAFF'\n",
    "            return\n",
    "        elif line == 'SECTION_DAYS_OFF\\n':\n",
    "            self.state = 'SECTION_DAYS_OFF'\n",
    "            return\n",
    "        elif line == 'SECTION_SHIFT_ON_REQUESTS\\n':\n",
    "            self.state = 'SECTION_SHIFT_ON_REQUESTS'\n",
    "            return\n",
    "        elif line == 'SECTION_SHIFT_OFF_REQUESTS\\n':\n",
    "            self.state = 'SECTION_SHIFT_OFF_REQUESTS'\n",
    "            return\n",
    "        elif line == 'SECTION_COVER\\n':\n",
    "            self.state = 'SECTION_COVER'\n",
    "            return\n",
    "            \n",
    "        if self.state == 'SECTION_HORIZON':\n",
    "            self.parse_section_horizon(line)\n",
    "            return\n",
    "        elif self.state == 'SECTION_SHIFTS':\n",
    "            self.parse_section_shifts(line)\n",
    "            return\n",
    "        elif self.state == 'SECTION_STAFF':\n",
    "            self.parse_section_staff(line)\n",
    "            return\n",
    "        elif self.state == 'SECTION_DAYS_OFF':\n",
    "            pass\n",
    "        elif self.state == 'SECTION_SHIFT_ON_REQUESTS':\n",
    "            pass\n",
    "        elif self.state == 'SECTION_SHIFT_OFF_REQUESTS':\n",
    "            pass\n",
    "        elif self.state == 'SECTION_COVER':\n",
    "            pass\n",
    "    \n",
    "    def parse_section_horizon(self, line):\n",
    "        self.section_horizon = int(line)\n",
    "        \n",
    "    def parse_section_shifts(self, line):\n",
    "        shift_id, length = line.split(',')\n",
    "        self.section_shifts[shift_id] = int(length)\n",
    "    \n",
    "    def parse_section_staff(self, line):\n",
    "        args = line.split(',')\n",
    "        staff_id = args[0]        \n",
    "        props = {\n",
    "            # TODO: распарсить нормально\n",
    "            'max_shift': args[1],\n",
    "            'max_total': int(args[2]),\n",
    "            'min_total': int(args[3]),\n",
    "            'max_cons_shifts': int(args[4]),\n",
    "            'min_cons_shifts': int(args[5]),\n",
    "            'min_cons_days_off': int(args[6]),\n",
    "            'max_weekends': int(args[7]), \n",
    "        }\n",
    "        self.staff[staff_id] = props\n",
    "        \n",
    "    def parse_days_off(self, line):\n",
    "        pass\n",
    "    \n",
    "    def parse_shift_on(self, line):\n",
    "        pass\n",
    "    \n",
    "    def parse_shift_off(self, line):\n",
    "        pass\n",
    "    \n",
    "    def parse_cover(self, line):\n",
    "        pass"
   ]
  },
  {
   "cell_type": "code",
   "execution_count": 36,
   "metadata": {},
   "outputs": [
    {
     "name": "stdout",
     "output_type": "stream",
     "text": [
      "14\n"
     ]
    }
   ],
   "source": [
    "parser = Parser()\n",
    "with open(data_path / 'test1.txt') as file:\n",
    "    parser.parse_file(file)"
   ]
  },
  {
   "cell_type": "code",
   "execution_count": null,
   "metadata": {},
   "outputs": [],
   "source": []
  }
 ],
 "metadata": {
  "kernelspec": {
   "display_name": "Python 3",
   "language": "python",
   "name": "python3"
  },
  "language_info": {
   "codemirror_mode": {
    "name": "ipython",
    "version": 3
   },
   "file_extension": ".py",
   "mimetype": "text/x-python",
   "name": "python",
   "nbconvert_exporter": "python",
   "pygments_lexer": "ipython3",
   "version": "3.7.4"
  }
 },
 "nbformat": 4,
 "nbformat_minor": 4
}
